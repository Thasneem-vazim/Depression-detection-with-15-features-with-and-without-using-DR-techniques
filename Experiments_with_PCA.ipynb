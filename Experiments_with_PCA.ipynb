{
  "nbformat": 4,
  "nbformat_minor": 0,
  "metadata": {
    "colab": {
      "name": "Experiments with PCA.ipynb",
      "provenance": [],
      "collapsed_sections": [],
      "authorship_tag": "ABX9TyNM0jDslMbFc0S/LWjGPV+G",
      "include_colab_link": true
    },
    "kernelspec": {
      "name": "python3",
      "display_name": "Python 3"
    },
    "language_info": {
      "name": "python"
    }
  },
  "cells": [
    {
      "cell_type": "markdown",
      "metadata": {
        "id": "view-in-github",
        "colab_type": "text"
      },
      "source": [
        "<a href=\"https://colab.research.google.com/github/Thasneem-vazim/Project-Code/blob/main/Experiments_with_PCA.ipynb\" target=\"_parent\"><img src=\"https://colab.research.google.com/assets/colab-badge.svg\" alt=\"Open In Colab\"/></a>"
      ]
    },
    {
      "cell_type": "code",
      "execution_count": 2,
      "metadata": {
        "id": "BmWVpYmHyE0s"
      },
      "outputs": [],
      "source": [
        "from sklearn import metrics\n",
        "import pandas as pd\n",
        "import numpy as np\n",
        "import matplotlib.pyplot as plt \n",
        "from sklearn.metrics import roc_curve\n",
        "from sklearn.metrics import roc_auc_score\n",
        "import plotly.express as px\n",
        "np.random.seed(13)\n",
        "file=pd.read_csv(\"/content/Copy of Survey (Responses) - Form Responses 1 (2).csv\")\n",
        "x=file[[\"1) Sadness\",\"2) Discouragement\",\"3) Low self-esteem\",\"4) Inferiority\",\"5) Guilt\",\"6) Indecisiveness\",\"7) Irritability\",\"8) Loss of interest in life\",\"9) Loss of motivation\",\"10) Poor self-image\",\"11) Appetite changes\",\"12) Sleep changes\",\"13) Loss of positivity\",\"14) Hypochondriasis\",\"15) Suicidal impulses\"]]\n",
        "\n",
        "y=file[\"Class\"]"
      ]
    },
    {
      "cell_type": "code",
      "source": [
        "from sklearn.preprocessing import LabelEncoder\n",
        "labelencoder_y = LabelEncoder()\n",
        "y = labelencoder_y.fit_transform(y)"
      ],
      "metadata": {
        "id": "l91gpQEXm3L2"
      },
      "execution_count": 3,
      "outputs": []
    },
    {
      "cell_type": "code",
      "source": [
        "from sklearn.model_selection import train_test_split\n",
        "x_train,x_test,y_train,y_test=train_test_split(x,y,test_size=0.2)"
      ],
      "metadata": {
        "id": "k4fwl3xooshQ"
      },
      "execution_count": 4,
      "outputs": []
    },
    {
      "cell_type": "code",
      "source": [
        "from sklearn.decomposition import PCA\n",
        " \n",
        "pca = PCA(n_components = 2)\n",
        " \n",
        "x1_train = pca.fit_transform(x_train)\n",
        "x1_test = pca.transform(x_test)"
      ],
      "metadata": {
        "id": "5sBCcvU0yQ0l"
      },
      "execution_count": 5,
      "outputs": []
    },
    {
      "cell_type": "code",
      "source": [
        "from sklearn.tree import DecisionTreeRegressor \n",
        "  \n",
        "# create a regressor object\n",
        "regressor = DecisionTreeRegressor(random_state = 0) \n",
        "  \n",
        "# fit the regressor with X and Y data\n",
        "regressor.fit(x1_train, y_train)\n",
        "from sklearn.metrics import classification_report,confusion_matrix\n",
        "y6_predict_test=regressor.predict(x1_test)\n",
        "cm1=confusion_matrix(y_test,y6_predict_test)\n",
        "import seaborn as sns\n",
        "sns.heatmap(cm1,annot=True)\n",
        "print(classification_report(y_test,y6_predict_test))\n"
      ],
      "metadata": {
        "colab": {
          "base_uri": "https://localhost:8080/",
          "height": 477
        },
        "id": "86nXUweFmsBK",
        "outputId": "30ea707e-fce1-40a7-f0cb-472ec6c07a8f"
      },
      "execution_count": 6,
      "outputs": [
        {
          "output_type": "stream",
          "name": "stdout",
          "text": [
            "              precision    recall  f1-score   support\n",
            "\n",
            "           0       0.91      0.91      0.91        11\n",
            "           1       1.00      0.86      0.92        14\n",
            "           2       0.92      1.00      0.96        12\n",
            "           3       0.67      1.00      0.80         2\n",
            "           4       1.00      1.00      1.00         3\n",
            "\n",
            "    accuracy                           0.93        42\n",
            "   macro avg       0.90      0.95      0.92        42\n",
            "weighted avg       0.94      0.93      0.93        42\n",
            "\n"
          ]
        },
        {
          "output_type": "display_data",
          "data": {
            "text/plain": [
              "<Figure size 432x288 with 2 Axes>"
            ],
            "image/png": "[encoded data removed]"
          },
          "metadata": {
            "needs_background": "light"
          }
        }
      ]
    },
    {
      "cell_type": "code",
      "source": [
        "prediction=regressor.predict(x1_test)\n",
        "print('Accuracy = ', metrics.accuracy_score(y_test, prediction)*100)"
      ],
      "metadata": {
        "id": "jML7ueoUaQNU",
        "colab": {
          "base_uri": "https://localhost:8080/"
        },
        "outputId": "6efb7beb-e1cc-4918-8951-4eb1099ddf5f"
      },
      "execution_count": 7,
      "outputs": [
        {
          "output_type": "stream",
          "name": "stdout",
          "text": [
            "Accuracy =  92.85714285714286\n"
          ]
        }
      ]
    },
    {
      "cell_type": "code",
      "source": [
        "from sklearn.svm import SVC\n",
        "SVM=SVC()\n",
        "SVM.fit(x1_train,y_train)"
      ],
      "metadata": {
        "colab": {
          "base_uri": "https://localhost:8080/"
        },
        "id": "8wV1ni-6ycB-",
        "outputId": "85f4521d-f6b0-4641-e172-2148c9c49ee6"
      },
      "execution_count": 8,
      "outputs": [
        {
          "output_type": "execute_result",
          "data": {
            "text/plain": [
              "SVC()"
            ]
          },
          "metadata": {},
          "execution_count": 8
        }
      ]
    },
    {
      "cell_type": "code",
      "source": [
        "from sklearn.metrics import classification_report,confusion_matrix\n",
        "y1_predict_test=SVM.predict(x1_test)\n",
        "cm1=confusion_matrix(y_test,y1_predict_test)\n",
        "import seaborn as sns\n",
        "sns.heatmap(cm1,annot=True)\n",
        "print(classification_report(y_test,y1_predict_test))"
      ],
      "metadata": {
        "colab": {
          "base_uri": "https://localhost:8080/",
          "height": 477
        },
        "id": "JXVP2Wa5yidq",
        "outputId": "a512a4bf-a14e-4e4f-d047-0a8deb8f4012"
      },
      "execution_count": 9,
      "outputs": [
        {
          "output_type": "stream",
          "name": "stdout",
          "text": [
            "              precision    recall  f1-score   support\n",
            "\n",
            "           0       0.77      0.91      0.83        11\n",
            "           1       0.86      0.86      0.86        14\n",
            "           2       1.00      0.92      0.96        12\n",
            "           3       1.00      0.50      0.67         2\n",
            "           4       1.00      1.00      1.00         3\n",
            "\n",
            "    accuracy                           0.88        42\n",
            "   macro avg       0.93      0.84      0.86        42\n",
            "weighted avg       0.89      0.88      0.88        42\n",
            "\n"
          ]
        },
        {
          "output_type": "display_data",
          "data": {
            "text/plain": [
              "<Figure size 432x288 with 2 Axes>"
            ],
            "image/png": "[encoded data removed]"
          },
          "metadata": {
            "needs_background": "light"
          }
        }
      ]
    },
    {
      "cell_type": "code",
      "source": [
        "prediction=SVM.predict(x1_test)\n",
        "print('Accuracy = ', metrics.accuracy_score(y_test, prediction)*100)"
      ],
      "metadata": {
        "colab": {
          "base_uri": "https://localhost:8080/"
        },
        "id": "x6u5ntoebIxd",
        "outputId": "c58a09cf-7bba-4109-9069-92913a12d6f8"
      },
      "execution_count": null,
      "outputs": [
        {
          "output_type": "stream",
          "name": "stdout",
          "text": [
            "Accuracy =  88.09523809523809\n"
          ]
        }
      ]
    },
    {
      "cell_type": "code",
      "source": [
        "from sklearn.tree import DecisionTreeClassifier\n",
        "DT=DecisionTreeClassifier()\n",
        "DT=DT.fit(x1_train,y_train)\n",
        "y4_predict_test=DT.predict(x1_test)\n",
        "cm4=confusion_matrix(y_test,y4_predict_test)\n",
        "sns.heatmap(cm4,annot=True)\n",
        "print(classification_report(y_test,y4_predict_test))"
      ],
      "metadata": {
        "colab": {
          "base_uri": "https://localhost:8080/",
          "height": 488
        },
        "id": "R67LiLqyzLGG",
        "outputId": "d2dc4935-8369-4483-d77a-04079cc6bc89"
      },
      "execution_count": null,
      "outputs": [
        {
          "output_type": "stream",
          "name": "stdout",
          "text": [
            "                       precision    recall  f1-score   support\n",
            "\n",
            "Borderline depression       0.92      1.00      0.96        11\n",
            "      Mild depression       1.00      0.86      0.92        14\n",
            "  Moderate depression       0.92      1.00      0.96        12\n",
            "        No depression       1.00      1.00      1.00         2\n",
            "    Severe depression       1.00      1.00      1.00         3\n",
            "\n",
            "             accuracy                           0.95        42\n",
            "            macro avg       0.97      0.97      0.97        42\n",
            "         weighted avg       0.96      0.95      0.95        42\n",
            "\n"
          ]
        },
        {
          "output_type": "display_data",
          "data": {
            "text/plain": [
              "<Figure size 432x288 with 2 Axes>"
            ],
            "image/png": "[encoded data removed]"
          },
          "metadata": {
            "needs_background": "light"
          }
        }
      ]
    },
    {
      "cell_type": "code",
      "source": [
        "prediction=DT.predict(x1_test)\n",
        "print('Accuracy = ', metrics.accuracy_score(y_test, prediction)*100)"
      ],
      "metadata": {
        "colab": {
          "base_uri": "https://localhost:8080/"
        },
        "id": "Oj5-arwvbZ21",
        "outputId": "a587e238-037a-4905-d4c6-2c0807f2e54a"
      },
      "execution_count": null,
      "outputs": [
        {
          "output_type": "stream",
          "name": "stdout",
          "text": [
            "Accuracy =  95.23809523809523\n"
          ]
        }
      ]
    },
    {
      "cell_type": "code",
      "source": [
        "from sklearn.ensemble import RandomForestClassifier\n",
        "RF = RandomForestClassifier(n_estimators = 100)\n",
        "RF.fit(x1_train, y_train)\n",
        "y5_predict_test=RF.predict(x1_test)\n",
        "cm4=confusion_matrix(y_test,y5_predict_test)\n",
        "sns.heatmap(cm4,annot=True)\n",
        "print(classification_report(y_test,y5_predict_test))"
      ],
      "metadata": {
        "colab": {
          "base_uri": "https://localhost:8080/",
          "height": 473
        },
        "id": "1woyTIwfzyaG",
        "outputId": "a4ff8cf3-9476-4676-9e58-e7df6a1727b4"
      },
      "execution_count": 10,
      "outputs": [
        {
          "output_type": "stream",
          "name": "stdout",
          "text": [
            "              precision    recall  f1-score   support\n",
            "\n",
            "           0       0.92      1.00      0.96        11\n",
            "           1       1.00      0.93      0.96        14\n",
            "           2       1.00      1.00      1.00        12\n",
            "           3       1.00      1.00      1.00         2\n",
            "           4       1.00      1.00      1.00         3\n",
            "\n",
            "    accuracy                           0.98        42\n",
            "   macro avg       0.98      0.99      0.98        42\n",
            "weighted avg       0.98      0.98      0.98        42\n",
            "\n"
          ]
        },
        {
          "output_type": "display_data",
          "data": {
            "text/plain": [
              "<Figure size 432x288 with 2 Axes>"
            ],
            "image/png": "[encoded data removed]"
          },
          "metadata": {
            "needs_background": "light"
          }
        }
      ]
    },
    {
      "cell_type": "code",
      "source": [
        "prediction=RF.predict(x1_test)\n",
        "print('Accuracy = ', metrics.accuracy_score(y_test, prediction)*100)"
      ],
      "metadata": {
        "colab": {
          "base_uri": "https://localhost:8080/"
        },
        "id": "vOFlxxv6bsgh",
        "outputId": "1e0cc169-306f-4fb8-984d-d74e5a90bea6"
      },
      "execution_count": null,
      "outputs": [
        {
          "output_type": "stream",
          "name": "stdout",
          "text": [
            "Accuracy =  97.61904761904762\n"
          ]
        }
      ]
    },
    {
      "cell_type": "code",
      "source": [
        "from sklearn.neighbors import KNeighborsClassifier\n",
        "knn = KNeighborsClassifier(n_neighbors = 1)\n",
        "knn.fit(x1_train, y_train)\n",
        "y6_pred=knn.predict(x1_test)\n",
        "cm4=confusion_matrix(y_test,y6_pred)\n",
        "sns.heatmap(cm4,annot=True)\n",
        "print(classification_report(y_test,y6_pred))\n"
      ],
      "metadata": {
        "colab": {
          "base_uri": "https://localhost:8080/",
          "height": 488
        },
        "id": "N7G_VWPj0VJx",
        "outputId": "7cfc19b4-a018-49f4-d741-3c00c9dada52"
      },
      "execution_count": null,
      "outputs": [
        {
          "output_type": "stream",
          "name": "stdout",
          "text": [
            "                       precision    recall  f1-score   support\n",
            "\n",
            "Borderline depression       0.92      1.00      0.96        11\n",
            "      Mild depression       0.92      0.86      0.89        14\n",
            "  Moderate depression       0.92      0.92      0.92        12\n",
            "        No depression       1.00      1.00      1.00         2\n",
            "    Severe depression       1.00      1.00      1.00         3\n",
            "\n",
            "             accuracy                           0.93        42\n",
            "            macro avg       0.95      0.95      0.95        42\n",
            "         weighted avg       0.93      0.93      0.93        42\n",
            "\n"
          ]
        },
        {
          "output_type": "display_data",
          "data": {
            "text/plain": [
              "<Figure size 432x288 with 2 Axes>"
            ],
            "image/png": "[encoded data removed]"
          },
          "metadata": {
            "needs_background": "light"
          }
        }
      ]
    },
    {
      "cell_type": "code",
      "source": [
        "prediction=knn.predict(x1_test)\n",
        "print('Accuracy = ', metrics.accuracy_score(y_test, prediction)*100)"
      ],
      "metadata": {
        "colab": {
          "base_uri": "https://localhost:8080/"
        },
        "id": "n_9SU9Utbzvl",
        "outputId": "499a18fc-b83c-4fce-8702-57a9a08ea7ca"
      },
      "execution_count": null,
      "outputs": [
        {
          "output_type": "stream",
          "name": "stdout",
          "text": [
            "Accuracy =  92.85714285714286\n"
          ]
        }
      ]
    },
    {
      "cell_type": "code",
      "source": [
        "from xgboost import XGBClassifier\n",
        "import xgboost as xgb\n",
        "params = {\n",
        " 'objective':'binary:logistic',\n",
        " 'max_depth': 3, 'min_child_weight': 4, 'gamma': 0.3, 'subsample': 0.6,\n",
        " 'colsample_bytree': 0.6, 'scale_pos_weight': 1,\n",
        " 'alpha': 0.01,\n",
        " 'learning_rate': 0.03,\n",
        " 'n_estimators':1000,'seed': 42\n",
        " }\n",
        "xgb_clf = XGBClassifier(**params)\n",
        "xgb_clf.fit(x1_train,y_train)\n",
        "\n",
        "yxg_pred=xgb_clf.predict(x1_test)\n",
        "cm4=confusion_matrix(y_test,yxg_pred)\n",
        "sns.heatmap(cm4,annot=True)\n",
        "print(classification_report(y_test,yxg_pred))"
      ],
      "metadata": {
        "colab": {
          "base_uri": "https://localhost:8080/",
          "height": 488
        },
        "id": "cY0O3lxo0o-1",
        "outputId": "1e66bee8-25d2-4949-f42a-97f249c1ef39"
      },
      "execution_count": null,
      "outputs": [
        {
          "output_type": "stream",
          "name": "stdout",
          "text": [
            "              precision    recall  f1-score   support\n",
            "\n",
            "           0       1.00      1.00      1.00        11\n",
            "           1       1.00      1.00      1.00        14\n",
            "           2       1.00      1.00      1.00        12\n",
            "           3       1.00      1.00      1.00         2\n",
            "           4       1.00      1.00      1.00         3\n",
            "\n",
            "    accuracy                           1.00        42\n",
            "   macro avg       1.00      1.00      1.00        42\n",
            "weighted avg       1.00      1.00      1.00        42\n",
            "\n"
          ]
        },
        {
          "output_type": "display_data",
          "data": {
            "text/plain": [
              "<Figure size 432x288 with 2 Axes>"
            ],
            "image/png": "[encoded data removed]"
          },
          "metadata": {
            "needs_background": "light"
          }
        }
      ]
    },
    {
      "cell_type": "code",
      "source": [
        "import pickle\n",
        " \n",
        "# Save the trained model as a pickle string.\n",
        "saved_model = pickle.dumps(xgb_clf)\n",
        " \n",
        "# Load the pickled model\n",
        "xgb_clf_from_pickle = pickle.loads(saved_model)\n",
        " \n",
        "# Use the loaded pickled model to make predictions\n",
        "xgb_clf_from_pickle.predict(x1_test)"
      ],
      "metadata": {
        "colab": {
          "base_uri": "https://localhost:8080/"
        },
        "id": "ZJUVJUm6wEl3",
        "outputId": "96fed84e-7848-4fa0-9d12-f7de9cbb088e"
      },
      "execution_count": null,
      "outputs": [
        {
          "output_type": "execute_result",
          "data": {
            "text/plain": [
              "array([4, 0, 1, 0, 1, 1, 0, 4, 0, 0, 2, 0, 1, 2, 2, 2, 2, 2, 1, 1, 1, 2,\n",
              "       0, 3, 2, 3, 1, 0, 2, 1, 1, 1, 4, 0, 2, 0, 1, 1, 0, 1, 2, 2])"
            ]
          },
          "metadata": {},
          "execution_count": 37
        }
      ]
    },
    {
      "cell_type": "code",
      "source": [
        "prediction=xgb_clf.predict(x1_test)\n",
        "print('Accuracy = ', metrics.accuracy_score(y_test, prediction)*100)"
      ],
      "metadata": {
        "colab": {
          "base_uri": "https://localhost:8080/"
        },
        "id": "QY04hMIvcAEJ",
        "outputId": "7a07893b-6e30-4100-a5e9-cb9e283c1027"
      },
      "execution_count": null,
      "outputs": [
        {
          "output_type": "stream",
          "name": "stdout",
          "text": [
            "Accuracy =  83.33333333333334\n"
          ]
        }
      ]
    }
  ]
}